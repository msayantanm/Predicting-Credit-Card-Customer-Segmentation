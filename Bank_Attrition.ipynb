{
 "cells": [
  {
   "cell_type": "code",
   "execution_count": 43,
   "metadata": {},
   "outputs": [],
   "source": [
    "import pandas as pd\n",
    "import numpy as np\n",
    "from sklearn import preprocessing\n",
    "from sklearn.model_selection import train_test_split, GridSearchCV\n",
    "from sklearn.ensemble import RandomForestClassifier\n",
    "from time import perf_counter\n",
    "from sklearn.metrics import classification_report"
   ]
  },
  {
   "cell_type": "code",
   "execution_count": 44,
   "metadata": {},
   "outputs": [],
   "source": [
    "df = pd.read_csv('BankChurners.csv')"
   ]
  },
  {
   "cell_type": "code",
   "execution_count": 45,
   "metadata": {},
   "outputs": [
    {
     "name": "stdout",
     "output_type": "stream",
     "text": [
      "CLIENTNUM\n",
      "Attrition_Flag\n",
      "Customer_Age\n",
      "Gender\n",
      "Dependent_count\n",
      "Education_Level\n",
      "Marital_Status\n",
      "Income_Category\n",
      "Card_Category\n",
      "Months_on_book\n",
      "Total_Relationship_Count\n",
      "Months_Inactive_12_mon\n",
      "Contacts_Count_12_mon\n",
      "Credit_Limit\n",
      "Total_Revolving_Bal\n",
      "Avg_Open_To_Buy\n",
      "Total_Amt_Chng_Q4_Q1\n",
      "Total_Trans_Amt\n",
      "Total_Trans_Ct\n",
      "Total_Ct_Chng_Q4_Q1\n",
      "Avg_Utilization_Ratio\n",
      "Naive_Bayes_Classifier_Attrition_Flag_Card_Category_Contacts_Count_12_mon_Dependent_count_Education_Level_Months_Inactive_12_mon_1\n",
      "Naive_Bayes_Classifier_Attrition_Flag_Card_Category_Contacts_Count_12_mon_Dependent_count_Education_Level_Months_Inactive_12_mon_2\n"
     ]
    }
   ],
   "source": [
    "for cols in df.columns:\n",
    "    print(cols)"
   ]
  },
  {
   "cell_type": "code",
   "execution_count": 46,
   "metadata": {},
   "outputs": [],
   "source": [
    "df = df.drop(['Naive_Bayes_Classifier_Attrition_Flag_Card_Category_Contacts_Count_12_mon_Dependent_count_Education_Level_Months_Inactive_12_mon_1',\n",
    "         'Naive_Bayes_Classifier_Attrition_Flag_Card_Category_Contacts_Count_12_mon_Dependent_count_Education_Level_Months_Inactive_12_mon_2'], axis = 1)"
   ]
  },
  {
   "cell_type": "code",
   "execution_count": 48,
   "metadata": {},
   "outputs": [],
   "source": [
    "column_transform = pd.get_dummies(df, columns = ['Gender', 'Education_Level', 'Marital_Status', 'Income_Category', 'Card_Category'])\n",
    "df = df.merge(column_transform)\n",
    "df.drop(['Gender', 'Education_Level', 'Marital_Status', 'Income_Category', 'Card_Category'], axis=1, inplace=True)"
   ]
  },
  {
   "cell_type": "code",
   "execution_count": 50,
   "metadata": {},
   "outputs": [],
   "source": [
    "label_encoder = preprocessing.LabelEncoder()\n",
    "\n",
    "df['Attrition_Flag'] = label_encoder.fit_transform(df['Attrition_Flag'])"
   ]
  },
  {
   "cell_type": "code",
   "execution_count": 51,
   "metadata": {},
   "outputs": [],
   "source": [
    "X = df.drop('Attrition_Flag', axis = 1)\n",
    "y = df['Attrition_Flag']"
   ]
  },
  {
   "cell_type": "code",
   "execution_count": 52,
   "metadata": {},
   "outputs": [],
   "source": [
    "X_train, X_test, y_train, y_test = train_test_split(X, y, test_size=0.3, random_state=41)"
   ]
  },
  {
   "cell_type": "code",
   "execution_count": 53,
   "metadata": {},
   "outputs": [],
   "source": [
    "rfg = RandomForestClassifier(class_weight='balanced', random_state=41)"
   ]
  },
  {
   "cell_type": "code",
   "execution_count": 54,
   "metadata": {},
   "outputs": [
    {
     "name": "stdout",
     "output_type": "stream",
     "text": [
      "Best Parameters: {'max_depth': 10, 'n_estimators': 32}\n"
     ]
    }
   ],
   "source": [
    "rfg_gscv = GridSearchCV(rfg,\n",
    "                   {\n",
    "    'n_estimators': range(1, 50), \n",
    "    'max_depth': range(1, 20)\n",
    "                   }, \n",
    "                    n_jobs=-1,\n",
    "                    scoring='accuracy')\n",
    "\n",
    "rfg_gscv.fit(X_train, y_train)\n",
    "t_2 = perf_counter()\n",
    "print(\"Best Parameters:\", rfg_gscv.best_params_)"
   ]
  },
  {
   "cell_type": "code",
   "execution_count": 56,
   "metadata": {},
   "outputs": [
    {
     "name": "stdout",
     "output_type": "stream",
     "text": [
      "              precision    recall  f1-score   support\n",
      "\n",
      "           0       0.83      0.81      0.82       497\n",
      "           1       0.96      0.97      0.97      2542\n",
      "\n",
      "    accuracy                           0.94      3039\n",
      "   macro avg       0.90      0.89      0.89      3039\n",
      "weighted avg       0.94      0.94      0.94      3039\n",
      "\n"
     ]
    }
   ],
   "source": [
    "rfg_optimal = rfg_gscv.best_estimator_\n",
    "print(classification_report(y_test, rfg_optimal.predict(X_test)))\n"
   ]
  }
 ],
 "metadata": {
  "kernelspec": {
   "display_name": "Python 3",
   "language": "python",
   "name": "python3"
  },
  "language_info": {
   "codemirror_mode": {
    "name": "ipython",
    "version": 3
   },
   "file_extension": ".py",
   "mimetype": "text/x-python",
   "name": "python",
   "nbconvert_exporter": "python",
   "pygments_lexer": "ipython3",
   "version": "3.10.9"
  },
  "orig_nbformat": 4
 },
 "nbformat": 4,
 "nbformat_minor": 2
}
